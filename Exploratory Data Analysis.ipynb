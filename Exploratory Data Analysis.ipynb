{
 "cells": [
  {
   "cell_type": "code",
   "execution_count": 86,
   "metadata": {},
   "outputs": [],
   "source": [
    "import pandas as pd\n",
    "import numpy as np\n",
    "import seaborn as sns\n",
    "import matplotlib.pyplot as plt\n",
    "%matplotlib inline\n",
    "\n",
    "# text processing libraries\n",
    "import re\n",
    "import string\n",
    "import nltk\n",
    "from nltk.corpus import stopwords"
   ]
  },
  {
   "cell_type": "code",
   "execution_count": 87,
   "metadata": {},
   "outputs": [
    {
     "data": {
      "text/html": [
       "<div>\n",
       "<style scoped>\n",
       "    .dataframe tbody tr th:only-of-type {\n",
       "        vertical-align: middle;\n",
       "    }\n",
       "\n",
       "    .dataframe tbody tr th {\n",
       "        vertical-align: top;\n",
       "    }\n",
       "\n",
       "    .dataframe thead th {\n",
       "        text-align: right;\n",
       "    }\n",
       "</style>\n",
       "<table border=\"1\" class=\"dataframe\">\n",
       "  <thead>\n",
       "    <tr style=\"text-align: right;\">\n",
       "      <th></th>\n",
       "      <th>Id</th>\n",
       "      <th>Title</th>\n",
       "      <th>Body</th>\n",
       "      <th>Tags</th>\n",
       "      <th>CreationDate</th>\n",
       "      <th>Y</th>\n",
       "    </tr>\n",
       "  </thead>\n",
       "  <tbody>\n",
       "    <tr>\n",
       "      <th>0</th>\n",
       "      <td>34552656</td>\n",
       "      <td>Java: Repeat Task Every Random Seconds</td>\n",
       "      <td>&lt;p&gt;I'm already familiar with repeating tasks e...</td>\n",
       "      <td>&lt;java&gt;&lt;repeat&gt;</td>\n",
       "      <td>2016-01-01 00:21:59</td>\n",
       "      <td>LQ_CLOSE</td>\n",
       "    </tr>\n",
       "    <tr>\n",
       "      <th>1</th>\n",
       "      <td>34552974</td>\n",
       "      <td>How to get all the child records from differen...</td>\n",
       "      <td>I am having 4 different tables like \\r\\nselect...</td>\n",
       "      <td>&lt;sql&gt;&lt;sql-server&gt;</td>\n",
       "      <td>2016-01-01 01:44:52</td>\n",
       "      <td>LQ_EDIT</td>\n",
       "    </tr>\n",
       "    <tr>\n",
       "      <th>2</th>\n",
       "      <td>34553034</td>\n",
       "      <td>Why are Java Optionals immutable?</td>\n",
       "      <td>&lt;p&gt;I'd like to understand why Java 8 Optionals...</td>\n",
       "      <td>&lt;java&gt;&lt;optional&gt;</td>\n",
       "      <td>2016-01-01 02:03:20</td>\n",
       "      <td>HQ</td>\n",
       "    </tr>\n",
       "    <tr>\n",
       "      <th>3</th>\n",
       "      <td>34553174</td>\n",
       "      <td>Text Overlay Image with Darkened Opacity React...</td>\n",
       "      <td>&lt;p&gt;I am attempting to overlay a title over an ...</td>\n",
       "      <td>&lt;javascript&gt;&lt;image&gt;&lt;overlay&gt;&lt;react-native&gt;&lt;opa...</td>\n",
       "      <td>2016-01-01 02:48:24</td>\n",
       "      <td>HQ</td>\n",
       "    </tr>\n",
       "    <tr>\n",
       "      <th>4</th>\n",
       "      <td>34553318</td>\n",
       "      <td>Why ternary operator in swift is so picky?</td>\n",
       "      <td>&lt;p&gt;The question is very simple, but I just cou...</td>\n",
       "      <td>&lt;swift&gt;&lt;operators&gt;&lt;whitespace&gt;&lt;ternary-operato...</td>\n",
       "      <td>2016-01-01 03:30:17</td>\n",
       "      <td>HQ</td>\n",
       "    </tr>\n",
       "  </tbody>\n",
       "</table>\n",
       "</div>"
      ],
      "text/plain": [
       "         Id                                              Title  \\\n",
       "0  34552656             Java: Repeat Task Every Random Seconds   \n",
       "1  34552974  How to get all the child records from differen...   \n",
       "2  34553034                  Why are Java Optionals immutable?   \n",
       "3  34553174  Text Overlay Image with Darkened Opacity React...   \n",
       "4  34553318         Why ternary operator in swift is so picky?   \n",
       "\n",
       "                                                Body  \\\n",
       "0  <p>I'm already familiar with repeating tasks e...   \n",
       "1  I am having 4 different tables like \\r\\nselect...   \n",
       "2  <p>I'd like to understand why Java 8 Optionals...   \n",
       "3  <p>I am attempting to overlay a title over an ...   \n",
       "4  <p>The question is very simple, but I just cou...   \n",
       "\n",
       "                                                Tags         CreationDate  \\\n",
       "0                                     <java><repeat>  2016-01-01 00:21:59   \n",
       "1                                  <sql><sql-server>  2016-01-01 01:44:52   \n",
       "2                                   <java><optional>  2016-01-01 02:03:20   \n",
       "3  <javascript><image><overlay><react-native><opa...  2016-01-01 02:48:24   \n",
       "4  <swift><operators><whitespace><ternary-operato...  2016-01-01 03:30:17   \n",
       "\n",
       "          Y  \n",
       "0  LQ_CLOSE  \n",
       "1   LQ_EDIT  \n",
       "2        HQ  \n",
       "3        HQ  \n",
       "4        HQ  "
      ]
     },
     "execution_count": 87,
     "metadata": {},
     "output_type": "execute_result"
    }
   ],
   "source": [
    "data = pd.read_csv('data.csv')\n",
    "data.head()"
   ]
  },
  {
   "cell_type": "code",
   "execution_count": 88,
   "metadata": {},
   "outputs": [],
   "source": [
    "# Renaming to a more meaningful name on column Y \n",
    "data.rename(columns={'Y':'Quality'}, inplace=True)"
   ]
  },
  {
   "cell_type": "code",
   "execution_count": 89,
   "metadata": {},
   "outputs": [
    {
     "name": "stdout",
     "output_type": "stream",
     "text": [
      "There are exactly 60000 rows and 6 columns of data\n"
     ]
    }
   ],
   "source": [
    "print('There are exactly %s rows and %s columns of data' %(data.shape[0],data.shape[1]))"
   ]
  },
  {
   "cell_type": "code",
   "execution_count": 90,
   "metadata": {},
   "outputs": [
    {
     "data": {
      "text/plain": [
       "Id              0\n",
       "Title           0\n",
       "Body            0\n",
       "Tags            0\n",
       "CreationDate    0\n",
       "Quality         0\n",
       "dtype: int64"
      ]
     },
     "execution_count": 90,
     "metadata": {},
     "output_type": "execute_result"
    }
   ],
   "source": [
    "# Check missing values in the dataset\n",
    "data.isnull().sum()"
   ]
  },
  {
   "cell_type": "code",
   "execution_count": 91,
   "metadata": {},
   "outputs": [
    {
     "name": "stdout",
     "output_type": "stream",
     "text": [
      "The first question recorded is in: 2016-01-01 00:21:59 \n",
      "The last question recorded is in: 2020-02-29 22:45:56\n"
     ]
    }
   ],
   "source": [
    "print('The first question recorded is in: %s \\nThe last question recorded is in: %s' %(data['CreationDate'].min(),data['CreationDate'].max()))"
   ]
  },
  {
   "cell_type": "markdown",
   "metadata": {},
   "source": [
    "There are no missing values in the dataset"
   ]
  },
  {
   "cell_type": "markdown",
   "metadata": {},
   "source": [
    "## Examples of each quality post"
   ]
  },
  {
   "cell_type": "code",
   "execution_count": 92,
   "metadata": {},
   "outputs": [
    {
     "name": "stdout",
     "output_type": "stream",
     "text": [
      "High quality post example: \n",
      "Title: Why are Java Optionals immutable? \n",
      "Body: [\"<p>I'd like to understand why Java 8 Optionals were designed to be immutable.  Is it just for thread-safety?</p>\\n\"] \n",
      "\n",
      "Low quality post remain open after edits example: \n",
      "Title: How to get all the child records from different tables based on given parent ID in sql server \n",
      "Body: ['I am having 4 different tables like \\r\\nselect * from System \\r\\n \\r\\nselect * from Set \\r\\nselect * from Item \\r\\nselect * from Versions \\r\\n\\r\\nNow for each system Id there will be **n no.of Sets**, and foe **each set** there qill be **n no. of Items** and for **each item** there will be **n no.of Versions**.\\r\\n\\r\\n**each system has  <br/>\\r\\nn no of set <br/>\\r\\neach Set has <br/>\\r\\nn no of Items <br/>\\r\\neach Item has <br/>\\r\\nn no of Versions**\\r\\n\\r\\n\\r\\nSo, Now when i give **SystemId** then i have to retrieve all the records from \\r\\n\\r\\n**Set and Items of each set and Versions of each Items** in single storedprocedure.'] \n",
      "\n",
      "Low quality post closed without a single edit example: \n",
      "Title: Java: Repeat Task Every Random Seconds \n",
      "Body: ['<p>I\\'m already familiar with repeating tasks every n seconds by using Java.util.Timer and Java.util.TimerTask. But lets say I want to print \"Hello World\" to the console every random seconds from 1-5. Unfortunately I\\'m in a bit of a rush and don\\'t have any code to show so far. Any help would be apriciated.  </p>\\n'] \n",
      "\n"
     ]
    }
   ],
   "source": [
    "# High quality post\n",
    "print('High quality post example: \\nTitle: %s \\nBody: %s' %(data[data['Quality'] == 'HQ']['Title'].values[0],data[data['Quality'] == 'HQ'][['Body']].values[0]),'\\n')\n",
    "\n",
    "# Low quality post remain open after edits\n",
    "print('Low quality post remain open after edits example: \\nTitle: %s \\nBody: %s' %(data[data['Quality'] == 'LQ_EDIT']['Title'].values[0],data[data['Quality'] == 'LQ_EDIT'][['Body']].values[0]),'\\n')\n",
    "\n",
    "# Low quality post closed without a single edit\n",
    "print('Low quality post closed without a single edit example: \\nTitle: %s \\nBody: %s' %(data[data['Quality'] == 'LQ_CLOSE']['Title'].values[0],data[data['Quality'] == 'LQ_CLOSE'][['Body']].values[0]),'\\n')\n"
   ]
  },
  {
   "cell_type": "markdown",
   "metadata": {},
   "source": [
    "# Tags Count"
   ]
  },
  {
   "cell_type": "code",
   "execution_count": 93,
   "metadata": {},
   "outputs": [
    {
     "data": {
      "text/plain": [
       "<python>                      1068\n",
       "<java>                        1013\n",
       "<javascript>                   879\n",
       "<c#>                           672\n",
       "<c++>                          668\n",
       "<php>                          564\n",
       "<c>                            542\n",
       "<android>                      510\n",
       "<html><css>                    426\n",
       "<python><python-3.x>           375\n",
       "<javascript><jquery>           348\n",
       "<java><android>                339\n",
       "<r>                            289\n",
       "<php><mysql>                   263\n",
       "<javascript><html>             260\n",
       "<sql><sql-server>              242\n",
       "<angular>                      233\n",
       "<javascript><jquery><html>     156\n",
       "<python><pandas>               155\n",
       "<excel><vba>                   148\n",
       "Name: Tags, dtype: int64"
      ]
     },
     "execution_count": 93,
     "metadata": {},
     "output_type": "execute_result"
    }
   ],
   "source": [
    "data['Tags'].value_counts()[:20]"
   ]
  },
  {
   "cell_type": "markdown",
   "metadata": {},
   "source": [
    "# Quality Counts"
   ]
  },
  {
   "cell_type": "code",
   "execution_count": 94,
   "metadata": {},
   "outputs": [
    {
     "data": {
      "text/plain": [
       "LQ_CLOSE    20000\n",
       "HQ          20000\n",
       "LQ_EDIT     20000\n",
       "Name: Quality, dtype: int64"
      ]
     },
     "execution_count": 94,
     "metadata": {},
     "output_type": "execute_result"
    }
   ],
   "source": [
    "data['Quality'].value_counts()"
   ]
  },
  {
   "cell_type": "markdown",
   "metadata": {},
   "source": [
    "Wow! They all have the same number of rows."
   ]
  },
  {
   "cell_type": "markdown",
   "metadata": {},
   "source": [
    "Here is a graph for a better representation."
   ]
  },
  {
   "cell_type": "code",
   "execution_count": 95,
   "metadata": {},
   "outputs": [
    {
     "data": {
      "image/png": "[encoded data removed]",
      "text/plain": [
       "<Figure size 432x288 with 1 Axes>"
      ]
     },
     "metadata": {
      "needs_background": "light"
     },
     "output_type": "display_data"
    }
   ],
   "source": [
    "plt.figure()\n",
    "plt.plot(figsize=(20,5))\n",
    "sns.countplot(data['Quality'])\n",
    "plt.title('Quality counts');"
   ]
  },
  {
   "cell_type": "code",
   "execution_count": 96,
   "metadata": {},
   "outputs": [],
   "source": [
    "data['tags_count'] = data['Tags'].apply(lambda x: len(str(x).split('<')) -1 )"
   ]
  },
  {
   "cell_type": "markdown",
   "metadata": {},
   "source": [
    "# Tags distribution"
   ]
  },
  {
   "cell_type": "code",
   "execution_count": 97,
   "metadata": {},
   "outputs": [
    {
     "data": {
      "image/png": "[encoded data removed]",
      "text/plain": [
       "<Figure size 432x288 with 1 Axes>"
      ]
     },
     "metadata": {
      "needs_background": "light"
     },
     "output_type": "display_data"
    }
   ],
   "source": [
    "plt.figure()\n",
    "sns.countplot(data['tags_count'], color = 'darkgreen' );\n",
    "plt.title(\"Tag distribution\");\n"
   ]
  },
  {
   "cell_type": "markdown",
   "metadata": {},
   "source": [
    "### Insights\n",
    "\n",
    "* The tags distribution is skewed to the right.\n",
    "* Most questions have 2 tags and the least is 5.\n"
   ]
  },
  {
   "cell_type": "markdown",
   "metadata": {},
   "source": [
    "# Questions\n",
    "* Does long questions result in HQ? (long questsions are more detailed or specific?)\n",
    "* long questions have more tags?"
   ]
  },
  {
   "cell_type": "markdown",
   "metadata": {},
   "source": [
    "# Feature-feature interactions"
   ]
  },
  {
   "cell_type": "raw",
   "metadata": {},
   "source": [
    "fig, ax = plt.subplots(2,1, figsize=(20,15))\n",
    "\n",
    "#sns.boxplot(data.title_word_count,data.tags_count, ax=ax[0], palette=\"Reds_r\");\n",
    "#ax[0].set_title('Title per tags')\n",
    "\n",
    "sns.countplot(data.tags_count, hue=data.title_word_count, ax=ax[1], palette=\"Reds_r\")\n"
   ]
  },
  {
   "cell_type": "markdown",
   "metadata": {},
   "source": [
    "# Text Data Preprocessing"
   ]
  },
  {
   "cell_type": "code",
   "execution_count": 98,
   "metadata": {},
   "outputs": [],
   "source": [
    "# text preprocessing helper functions\n",
    "# By: https://www.kaggle.com/parulpandey/eda-and-preprocessing-for-bert/notebook\n",
    "\n",
    "\n",
    "def clean_text(text):\n",
    "    '''Make text lowercase, remove text in square brackets,remove links,remove punctuation\n",
    "    and remove words containing numbers.'''\n",
    "    text = text.lower()\n",
    "    text = re.sub('\\[.*?\\]', '', text)\n",
    "    text = re.sub('https?://\\S+|www\\.\\S+', '', text)\n",
    "    text = re.sub('<.*?>+', '', text)\n",
    "    text = re.sub('[%s]' % re.escape(string.punctuation), '', text)\n",
    "    text = re.sub('\\n', '', text)\n",
    "    text = re.sub('\\w*\\d\\w*', '', text)\n",
    "    return text\n",
    "\n",
    "\n",
    "def text_preprocessing(text):\n",
    "    \"\"\"\n",
    "    Cleaning and parsing the text.\n",
    "    Apply tokenization and stop word removal\n",
    "    \"\"\"\n",
    "    tokenizer = nltk.tokenize.RegexpTokenizer(r'\\w+')\n",
    "    nopunc = clean_text(text)\n",
    "    tokenized_text = tokenizer.tokenize(nopunc)\n",
    "    #remove_stopwords = [w for w in tokenized_text if w not in stopwords.words('english')]\n",
    "    combined_text = ' '.join(tokenized_text)\n",
    "    return combined_text"
   ]
  },
  {
   "cell_type": "code",
   "execution_count": 99,
   "metadata": {},
   "outputs": [],
   "source": [
    "data['title_clean'] = data['Title'].apply(lambda x: clean_text(x)).apply(lambda x: text_preprocessing(x))\n",
    "data['body_clean'] = data['Body'].apply(lambda x: clean_text(x)).apply(lambda x: text_preprocessing(x))"
   ]
  },
  {
   "cell_type": "code",
   "execution_count": 100,
   "metadata": {},
   "outputs": [
    {
     "data": {
      "text/html": [
       "<div>\n",
       "<style scoped>\n",
       "    .dataframe tbody tr th:only-of-type {\n",
       "        vertical-align: middle;\n",
       "    }\n",
       "\n",
       "    .dataframe tbody tr th {\n",
       "        vertical-align: top;\n",
       "    }\n",
       "\n",
       "    .dataframe thead th {\n",
       "        text-align: right;\n",
       "    }\n",
       "</style>\n",
       "<table border=\"1\" class=\"dataframe\">\n",
       "  <thead>\n",
       "    <tr style=\"text-align: right;\">\n",
       "      <th></th>\n",
       "      <th>Id</th>\n",
       "      <th>Title</th>\n",
       "      <th>Body</th>\n",
       "      <th>Tags</th>\n",
       "      <th>CreationDate</th>\n",
       "      <th>Quality</th>\n",
       "      <th>tags_count</th>\n",
       "      <th>title_clean</th>\n",
       "      <th>body_clean</th>\n",
       "    </tr>\n",
       "  </thead>\n",
       "  <tbody>\n",
       "    <tr>\n",
       "      <th>0</th>\n",
       "      <td>34552656</td>\n",
       "      <td>Java: Repeat Task Every Random Seconds</td>\n",
       "      <td>&lt;p&gt;I'm already familiar with repeating tasks e...</td>\n",
       "      <td>&lt;java&gt;&lt;repeat&gt;</td>\n",
       "      <td>2016-01-01 00:21:59</td>\n",
       "      <td>LQ_CLOSE</td>\n",
       "      <td>2</td>\n",
       "      <td>java repeat task every random seconds</td>\n",
       "      <td>im already familiar with repeating tasks every...</td>\n",
       "    </tr>\n",
       "    <tr>\n",
       "      <th>1</th>\n",
       "      <td>34552974</td>\n",
       "      <td>How to get all the child records from differen...</td>\n",
       "      <td>I am having 4 different tables like \\r\\nselect...</td>\n",
       "      <td>&lt;sql&gt;&lt;sql-server&gt;</td>\n",
       "      <td>2016-01-01 01:44:52</td>\n",
       "      <td>LQ_EDIT</td>\n",
       "      <td>2</td>\n",
       "      <td>how to get all the child records from differen...</td>\n",
       "      <td>i am having different tables like select from ...</td>\n",
       "    </tr>\n",
       "    <tr>\n",
       "      <th>2</th>\n",
       "      <td>34553034</td>\n",
       "      <td>Why are Java Optionals immutable?</td>\n",
       "      <td>&lt;p&gt;I'd like to understand why Java 8 Optionals...</td>\n",
       "      <td>&lt;java&gt;&lt;optional&gt;</td>\n",
       "      <td>2016-01-01 02:03:20</td>\n",
       "      <td>HQ</td>\n",
       "      <td>2</td>\n",
       "      <td>why are java optionals immutable</td>\n",
       "      <td>id like to understand why java optionals were ...</td>\n",
       "    </tr>\n",
       "    <tr>\n",
       "      <th>3</th>\n",
       "      <td>34553174</td>\n",
       "      <td>Text Overlay Image with Darkened Opacity React...</td>\n",
       "      <td>&lt;p&gt;I am attempting to overlay a title over an ...</td>\n",
       "      <td>&lt;javascript&gt;&lt;image&gt;&lt;overlay&gt;&lt;react-native&gt;&lt;opa...</td>\n",
       "      <td>2016-01-01 02:48:24</td>\n",
       "      <td>HQ</td>\n",
       "      <td>5</td>\n",
       "      <td>text overlay image with darkened opacity react...</td>\n",
       "      <td>i am attempting to overlay a title over an ima...</td>\n",
       "    </tr>\n",
       "    <tr>\n",
       "      <th>4</th>\n",
       "      <td>34553318</td>\n",
       "      <td>Why ternary operator in swift is so picky?</td>\n",
       "      <td>&lt;p&gt;The question is very simple, but I just cou...</td>\n",
       "      <td>&lt;swift&gt;&lt;operators&gt;&lt;whitespace&gt;&lt;ternary-operato...</td>\n",
       "      <td>2016-01-01 03:30:17</td>\n",
       "      <td>HQ</td>\n",
       "      <td>5</td>\n",
       "      <td>why ternary operator in swift is so picky</td>\n",
       "      <td>the question is very simple but i just could n...</td>\n",
       "    </tr>\n",
       "  </tbody>\n",
       "</table>\n",
       "</div>"
      ],
      "text/plain": [
       "         Id                                              Title  \\\n",
       "0  34552656             Java: Repeat Task Every Random Seconds   \n",
       "1  34552974  How to get all the child records from differen...   \n",
       "2  34553034                  Why are Java Optionals immutable?   \n",
       "3  34553174  Text Overlay Image with Darkened Opacity React...   \n",
       "4  34553318         Why ternary operator in swift is so picky?   \n",
       "\n",
       "                                                Body  \\\n",
       "0  <p>I'm already familiar with repeating tasks e...   \n",
       "1  I am having 4 different tables like \\r\\nselect...   \n",
       "2  <p>I'd like to understand why Java 8 Optionals...   \n",
       "3  <p>I am attempting to overlay a title over an ...   \n",
       "4  <p>The question is very simple, but I just cou...   \n",
       "\n",
       "                                                Tags         CreationDate  \\\n",
       "0                                     <java><repeat>  2016-01-01 00:21:59   \n",
       "1                                  <sql><sql-server>  2016-01-01 01:44:52   \n",
       "2                                   <java><optional>  2016-01-01 02:03:20   \n",
       "3  <javascript><image><overlay><react-native><opa...  2016-01-01 02:48:24   \n",
       "4  <swift><operators><whitespace><ternary-operato...  2016-01-01 03:30:17   \n",
       "\n",
       "    Quality  tags_count                                        title_clean  \\\n",
       "0  LQ_CLOSE           2              java repeat task every random seconds   \n",
       "1   LQ_EDIT           2  how to get all the child records from differen...   \n",
       "2        HQ           2                   why are java optionals immutable   \n",
       "3        HQ           5  text overlay image with darkened opacity react...   \n",
       "4        HQ           5          why ternary operator in swift is so picky   \n",
       "\n",
       "                                          body_clean  \n",
       "0  im already familiar with repeating tasks every...  \n",
       "1  i am having different tables like select from ...  \n",
       "2  id like to understand why java optionals were ...  \n",
       "3  i am attempting to overlay a title over an ima...  \n",
       "4  the question is very simple but i just could n...  "
      ]
     },
     "execution_count": 100,
     "metadata": {},
     "output_type": "execute_result"
    }
   ],
   "source": [
    "data.head()"
   ]
  },
  {
   "cell_type": "markdown",
   "metadata": {},
   "source": [
    "# Look at the number of words in the title and body columns."
   ]
  },
  {
   "cell_type": "code",
   "execution_count": 101,
   "metadata": {},
   "outputs": [],
   "source": [
    "data['title_word_count'] = data['title_clean'].apply(lambda x: len(str(x).split()))\n",
    "data['body_word_count']  = data['body_clean'].apply(lambda x: len(str(x).split()))"
   ]
  },
  {
   "cell_type": "code",
   "execution_count": 103,
   "metadata": {},
   "outputs": [
    {
     "data": {
      "text/html": [
       "<div>\n",
       "<style scoped>\n",
       "    .dataframe tbody tr th:only-of-type {\n",
       "        vertical-align: middle;\n",
       "    }\n",
       "\n",
       "    .dataframe tbody tr th {\n",
       "        vertical-align: top;\n",
       "    }\n",
       "\n",
       "    .dataframe thead th {\n",
       "        text-align: right;\n",
       "    }\n",
       "</style>\n",
       "<table border=\"1\" class=\"dataframe\">\n",
       "  <thead>\n",
       "    <tr style=\"text-align: right;\">\n",
       "      <th></th>\n",
       "      <th>Id</th>\n",
       "      <th>Title</th>\n",
       "      <th>Body</th>\n",
       "      <th>Tags</th>\n",
       "      <th>CreationDate</th>\n",
       "      <th>Quality</th>\n",
       "      <th>tags_count</th>\n",
       "      <th>title_clean</th>\n",
       "      <th>body_clean</th>\n",
       "      <th>title_word_count</th>\n",
       "      <th>body_word_count</th>\n",
       "    </tr>\n",
       "  </thead>\n",
       "  <tbody>\n",
       "    <tr>\n",
       "      <th>0</th>\n",
       "      <td>34552656</td>\n",
       "      <td>Java: Repeat Task Every Random Seconds</td>\n",
       "      <td>&lt;p&gt;I'm already familiar with repeating tasks e...</td>\n",
       "      <td>&lt;java&gt;&lt;repeat&gt;</td>\n",
       "      <td>2016-01-01 00:21:59</td>\n",
       "      <td>LQ_CLOSE</td>\n",
       "      <td>2</td>\n",
       "      <td>java repeat task every random seconds</td>\n",
       "      <td>im already familiar with repeating tasks every...</td>\n",
       "      <td>6</td>\n",
       "      <td>52</td>\n",
       "    </tr>\n",
       "    <tr>\n",
       "      <th>1</th>\n",
       "      <td>34552974</td>\n",
       "      <td>How to get all the child records from differen...</td>\n",
       "      <td>I am having 4 different tables like \\r\\nselect...</td>\n",
       "      <td>&lt;sql&gt;&lt;sql-server&gt;</td>\n",
       "      <td>2016-01-01 01:44:52</td>\n",
       "      <td>LQ_EDIT</td>\n",
       "      <td>2</td>\n",
       "      <td>how to get all the child records from differen...</td>\n",
       "      <td>i am having different tables like select from ...</td>\n",
       "      <td>18</td>\n",
       "      <td>100</td>\n",
       "    </tr>\n",
       "    <tr>\n",
       "      <th>2</th>\n",
       "      <td>34553034</td>\n",
       "      <td>Why are Java Optionals immutable?</td>\n",
       "      <td>&lt;p&gt;I'd like to understand why Java 8 Optionals...</td>\n",
       "      <td>&lt;java&gt;&lt;optional&gt;</td>\n",
       "      <td>2016-01-01 02:03:20</td>\n",
       "      <td>HQ</td>\n",
       "      <td>2</td>\n",
       "      <td>why are java optionals immutable</td>\n",
       "      <td>id like to understand why java optionals were ...</td>\n",
       "      <td>5</td>\n",
       "      <td>17</td>\n",
       "    </tr>\n",
       "    <tr>\n",
       "      <th>3</th>\n",
       "      <td>34553174</td>\n",
       "      <td>Text Overlay Image with Darkened Opacity React...</td>\n",
       "      <td>&lt;p&gt;I am attempting to overlay a title over an ...</td>\n",
       "      <td>&lt;javascript&gt;&lt;image&gt;&lt;overlay&gt;&lt;react-native&gt;&lt;opa...</td>\n",
       "      <td>2016-01-01 02:48:24</td>\n",
       "      <td>HQ</td>\n",
       "      <td>5</td>\n",
       "      <td>text overlay image with darkened opacity react...</td>\n",
       "      <td>i am attempting to overlay a title over an ima...</td>\n",
       "      <td>8</td>\n",
       "      <td>292</td>\n",
       "    </tr>\n",
       "    <tr>\n",
       "      <th>4</th>\n",
       "      <td>34553318</td>\n",
       "      <td>Why ternary operator in swift is so picky?</td>\n",
       "      <td>&lt;p&gt;The question is very simple, but I just cou...</td>\n",
       "      <td>&lt;swift&gt;&lt;operators&gt;&lt;whitespace&gt;&lt;ternary-operato...</td>\n",
       "      <td>2016-01-01 03:30:17</td>\n",
       "      <td>HQ</td>\n",
       "      <td>5</td>\n",
       "      <td>why ternary operator in swift is so picky</td>\n",
       "      <td>the question is very simple but i just could n...</td>\n",
       "      <td>8</td>\n",
       "      <td>73</td>\n",
       "    </tr>\n",
       "  </tbody>\n",
       "</table>\n",
       "</div>"
      ],
      "text/plain": [
       "         Id                                              Title  \\\n",
       "0  34552656             Java: Repeat Task Every Random Seconds   \n",
       "1  34552974  How to get all the child records from differen...   \n",
       "2  34553034                  Why are Java Optionals immutable?   \n",
       "3  34553174  Text Overlay Image with Darkened Opacity React...   \n",
       "4  34553318         Why ternary operator in swift is so picky?   \n",
       "\n",
       "                                                Body  \\\n",
       "0  <p>I'm already familiar with repeating tasks e...   \n",
       "1  I am having 4 different tables like \\r\\nselect...   \n",
       "2  <p>I'd like to understand why Java 8 Optionals...   \n",
       "3  <p>I am attempting to overlay a title over an ...   \n",
       "4  <p>The question is very simple, but I just cou...   \n",
       "\n",
       "                                                Tags         CreationDate  \\\n",
       "0                                     <java><repeat>  2016-01-01 00:21:59   \n",
       "1                                  <sql><sql-server>  2016-01-01 01:44:52   \n",
       "2                                   <java><optional>  2016-01-01 02:03:20   \n",
       "3  <javascript><image><overlay><react-native><opa...  2016-01-01 02:48:24   \n",
       "4  <swift><operators><whitespace><ternary-operato...  2016-01-01 03:30:17   \n",
       "\n",
       "    Quality  tags_count                                        title_clean  \\\n",
       "0  LQ_CLOSE           2              java repeat task every random seconds   \n",
       "1   LQ_EDIT           2  how to get all the child records from differen...   \n",
       "2        HQ           2                   why are java optionals immutable   \n",
       "3        HQ           5  text overlay image with darkened opacity react...   \n",
       "4        HQ           5          why ternary operator in swift is so picky   \n",
       "\n",
       "                                          body_clean  title_word_count  \\\n",
       "0  im already familiar with repeating tasks every...                 6   \n",
       "1  i am having different tables like select from ...                18   \n",
       "2  id like to understand why java optionals were ...                 5   \n",
       "3  i am attempting to overlay a title over an ima...                 8   \n",
       "4  the question is very simple but i just could n...                 8   \n",
       "\n",
       "   body_word_count  \n",
       "0               52  \n",
       "1              100  \n",
       "2               17  \n",
       "3              292  \n",
       "4               73  "
      ]
     },
     "execution_count": 103,
     "metadata": {},
     "output_type": "execute_result"
    }
   ],
   "source": [
    "data.head()"
   ]
  },
  {
   "cell_type": "markdown",
   "metadata": {},
   "source": [
    "# Title Word Counts"
   ]
  },
  {
   "cell_type": "code",
   "execution_count": 104,
   "metadata": {},
   "outputs": [
    {
     "data": {
      "text/plain": [
       "33"
      ]
     },
     "execution_count": 104,
     "metadata": {},
     "output_type": "execute_result"
    }
   ],
   "source": [
    "data['title_word_count'].max()"
   ]
  },
  {
   "cell_type": "code",
   "execution_count": 105,
   "metadata": {},
   "outputs": [
    {
     "data": {
      "image/png": "[encoded data removed]",
      "text/plain": [
       "<Figure size 1440x864 with 2 Axes>"
      ]
     },
     "metadata": {
      "needs_background": "light"
     },
     "output_type": "display_data"
    }
   ],
   "source": [
    "fig, ax = plt.subplots(2,1,figsize=(20,12))\n",
    "\n",
    "sns.distplot(data['title_word_count'], ax=ax[0], color=\"orangered\", kde=True);\n",
    "ax[0].set_xlabel('Counts')\n",
    "ax[0].set_ylabel(\"Frequency\")\n",
    "ax[0].set_title(\"Word count for title\")\n",
    "\n",
    "sns.boxplot(data['title_word_count'], ax=ax[1], color='orangered');\n",
    "ax[1].set_xlim(0,50);"
   ]
  },
  {
   "cell_type": "code",
   "execution_count": 106,
   "metadata": {},
   "outputs": [
    {
     "data": {
      "text/plain": [
       "5.0"
      ]
     },
     "execution_count": 106,
     "metadata": {},
     "output_type": "execute_result"
    }
   ],
   "source": [
    "np.quantile(data['title_word_count'], 0.75) - np.quantile(data['title_word_count'], 0.25)"
   ]
  },
  {
   "cell_type": "code",
   "execution_count": 107,
   "metadata": {},
   "outputs": [
    {
     "data": {
      "text/plain": [
       "8.0"
      ]
     },
     "execution_count": 107,
     "metadata": {},
     "output_type": "execute_result"
    }
   ],
   "source": [
    "np.quantile(data['title_word_count'], 0.5)"
   ]
  },
  {
   "cell_type": "code",
   "execution_count": 108,
   "metadata": {},
   "outputs": [
    {
     "name": "stdout",
     "output_type": "stream",
     "text": [
      "16.0\n"
     ]
    }
   ],
   "source": [
    "print(np.quantile(data['title_word_count'], 0.95))"
   ]
  },
  {
   "cell_type": "markdown",
   "metadata": {},
   "source": [
    "### Insights\n",
    "\n",
    "* For most of the titles we have words range from 5 to 8.\n",
    "* More than 16 words is very seldom.\n",
    "* Most number of words in a title is 33."
   ]
  },
  {
   "cell_type": "markdown",
   "metadata": {},
   "source": [
    "# Body Word Counts"
   ]
  },
  {
   "cell_type": "code",
   "execution_count": 109,
   "metadata": {},
   "outputs": [
    {
     "data": {
      "text/plain": [
       "2906"
      ]
     },
     "execution_count": 109,
     "metadata": {},
     "output_type": "execute_result"
    }
   ],
   "source": [
    "data['body_word_count'].max()"
   ]
  },
  {
   "cell_type": "code",
   "execution_count": 110,
   "metadata": {},
   "outputs": [
    {
     "data": {
      "text/plain": [
       "45561    2906\n",
       "56299    2280\n",
       "50110    2166\n",
       "29611    1839\n",
       "27357    1790\n",
       "Name: body_word_count, dtype: int64"
      ]
     },
     "execution_count": 110,
     "metadata": {},
     "output_type": "execute_result"
    }
   ],
   "source": [
    "data['body_word_count'].sort_values(ascending=False).head()"
   ]
  },
  {
   "cell_type": "code",
   "execution_count": 111,
   "metadata": {},
   "outputs": [
    {
     "data": {
      "image/png": "[encoded data removed]",
      "text/plain": [
       "<Figure size 1440x864 with 2 Axes>"
      ]
     },
     "metadata": {
      "needs_background": "light"
     },
     "output_type": "display_data"
    }
   ],
   "source": [
    "fig, ax = plt.subplots(2,1,figsize=(20,12))\n",
    "\n",
    "sns.distplot(data['body_word_count'], ax=ax[0], color = 'lightseagreen', kde=True);\n",
    "ax[0].set_xlabel('Counts')\n",
    "ax[0].set_ylabel(\"Frequency\")\n",
    "ax[0].set_title(\"Number of words in Body\")\n",
    "\n",
    "sns.boxplot(data['body_word_count'], ax=ax[1], color='lightseagreen');\n"
   ]
  },
  {
   "cell_type": "code",
   "execution_count": 112,
   "metadata": {},
   "outputs": [
    {
     "data": {
      "text/plain": [
       "67.0"
      ]
     },
     "execution_count": 112,
     "metadata": {},
     "output_type": "execute_result"
    }
   ],
   "source": [
    "np.quantile(data['body_word_count'], 0.75) - np.quantile(data['body_word_count'], 0.25)"
   ]
  },
  {
   "cell_type": "code",
   "execution_count": 113,
   "metadata": {},
   "outputs": [
    {
     "data": {
      "text/plain": [
       "64.0"
      ]
     },
     "execution_count": 113,
     "metadata": {},
     "output_type": "execute_result"
    }
   ],
   "source": [
    "np.quantile(data['body_word_count'], 0.5)"
   ]
  },
  {
   "cell_type": "code",
   "execution_count": 114,
   "metadata": {},
   "outputs": [
    {
     "name": "stdout",
     "output_type": "stream",
     "text": [
      "228.0\n"
     ]
    }
   ],
   "source": [
    "print(np.quantile(data['body_word_count'], 0.95))"
   ]
  },
  {
   "cell_type": "markdown",
   "metadata": {},
   "source": [
    "### Insights\n",
    "\n",
    "* On average most of the questions body are between 64 to 67 words long.\n",
    "* There are hardly with 228 words longer.\n",
    "* There is one super long question with 2906 words."
   ]
  },
  {
   "cell_type": "code",
   "execution_count": 127,
   "metadata": {},
   "outputs": [],
   "source": [
    "hq = data[data['Quality'] == 'HQ']\n",
    "lq_edit = data[data['Quality'] == 'LQ_EDIT']\n",
    "lq_close = data[data['Quality'] == 'LQ_CLOSE']"
   ]
  },
  {
   "cell_type": "code",
   "execution_count": 128,
   "metadata": {},
   "outputs": [
    {
     "data": {
      "text/plain": [
       "<AxesSubplot:xlabel='body_word_count'>"
      ]
     },
     "execution_count": 128,
     "metadata": {},
     "output_type": "execute_result"
    },
    {
     "data": {
      "image/png": "[encoded data removed]",
      "text/plain": [
       "<Figure size 1440x864 with 3 Axes>"
      ]
     },
     "metadata": {
      "needs_background": "light"
     },
     "output_type": "display_data"
    }
   ],
   "source": [
    "fig, ax = plt.subplots(3,1,figsize=(20,12))\n",
    "sns.distplot(hq['body_word_count'], ax=ax[0])\n",
    "\n",
    "sns.distplot(lq_edit['body_word_count'],ax=ax[1])\n",
    "\n",
    "sns.distplot(lq_close['body_word_count'],ax=ax[2])\n"
   ]
  },
  {
   "cell_type": "code",
   "execution_count": 147,
   "metadata": {},
   "outputs": [
    {
     "ename": "AttributeError",
     "evalue": "module 'seaborn' has no attribute 'histplot'",
     "output_type": "error",
     "traceback": [
      "\u001b[1;31m---------------------------------------------------------------------------\u001b[0m",
      "\u001b[1;31mAttributeError\u001b[0m                            Traceback (most recent call last)",
      "\u001b[1;32m<ipython-input-147-b4be7c02b45c>\u001b[0m in \u001b[0;36m<module>\u001b[1;34m\u001b[0m\n\u001b[1;32m----> 1\u001b[1;33m \u001b[0msns\u001b[0m\u001b[1;33m.\u001b[0m\u001b[0mhistplot\u001b[0m\u001b[1;33m(\u001b[0m\u001b[0mdata\u001b[0m\u001b[1;33m[\u001b[0m\u001b[1;34m'body_word_count'\u001b[0m\u001b[1;33m]\u001b[0m\u001b[1;33m,\u001b[0m \u001b[0mhue\u001b[0m\u001b[1;33m=\u001b[0m\u001b[0mdata\u001b[0m\u001b[1;33m[\u001b[0m\u001b[1;34m'Quality'\u001b[0m\u001b[1;33m]\u001b[0m\u001b[1;33m,\u001b[0m \u001b[0mkind\u001b[0m\u001b[1;33m=\u001b[0m\u001b[1;34m\"kde\"\u001b[0m\u001b[1;33m)\u001b[0m\u001b[1;33m\u001b[0m\u001b[1;33m\u001b[0m\u001b[0m\n\u001b[0m",
      "\u001b[1;31mAttributeError\u001b[0m: module 'seaborn' has no attribute 'histplot'"
     ]
    }
   ],
   "source": [
    "sns.histplot(data['body_word_count'], hue=data['Quality'], kind=\"kde\")\n"
   ]
  },
  {
   "cell_type": "code",
   "execution_count": 130,
   "metadata": {},
   "outputs": [
    {
     "data": {
      "text/plain": [
       "2166"
      ]
     },
     "execution_count": 130,
     "metadata": {},
     "output_type": "execute_result"
    }
   ],
   "source": [
    "lq_edit['body_word_count'].max()"
   ]
  },
  {
   "cell_type": "code",
   "execution_count": 131,
   "metadata": {},
   "outputs": [
    {
     "data": {
      "text/plain": [
       "2906"
      ]
     },
     "execution_count": 131,
     "metadata": {},
     "output_type": "execute_result"
    }
   ],
   "source": [
    "lq_close['body_word_count'].max()"
   ]
  },
  {
   "cell_type": "code",
   "execution_count": null,
   "metadata": {},
   "outputs": [],
   "source": []
  }
 ],
 "metadata": {
  "kernelspec": {
   "display_name": "Python 3",
   "language": "python",
   "name": "python3"
  },
  "language_info": {
   "codemirror_mode": {
    "name": "ipython",
    "version": 3
   },
   "file_extension": ".py",
   "mimetype": "text/x-python",
   "name": "python",
   "nbconvert_exporter": "python",
   "pygments_lexer": "ipython3",
   "version": "3.7.3"
  }
 },
 "nbformat": 4,
 "nbformat_minor": 2
}
